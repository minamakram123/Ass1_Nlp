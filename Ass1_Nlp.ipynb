{
  "nbformat": 4,
  "nbformat_minor": 0,
  "metadata": {
    "colab": {
      "provenance": []
    },
    "kernelspec": {
      "name": "python3",
      "display_name": "Python 3"
    },
    "language_info": {
      "name": "python"
    }
  },
  "cells": [
    {
      "cell_type": "code",
      "execution_count": null,
      "metadata": {
        "colab": {
          "base_uri": "https://localhost:8080/"
        },
        "id": "pXI27B85KssU",
        "outputId": "08a7cd57-940d-4750-a1f7-f220e32f68f7"
      },
      "outputs": [
        {
          "output_type": "stream",
          "name": "stdout",
          "text": [
            "\n",
            "\n",
            "\n",
            "\n",
            "\n",
            "\n",
            "\n",
            "TEXT Definition & Usage Examples | Dictionary.com\n",
            "\n",
            "\n",
            "\n",
            "\n",
            "\n",
            "\n",
            "\n",
            "\n",
            "GamesDaily CrosswordWord PuzzleWord FinderAll gamesFeaturedWord of the DaySynonym of the DayWord of the YearNew wordsLanguage storiesAll featuredPop cultureSlangEmojiMemesAcronymsGender and sexualityAll pop cultureWriting tipsGrammar Coach™Writing hubGrammar essentialsCommonly confusedAll writing tipsGamesFeaturedPop cultureWriting tipstext[ tekst  ]show ipaSee synonyms for text on Thesaurus.comnounthe main body of matter in a manuscript, book, newspaper, etc., as distinguished from notes, appendixes, headings, illustrations, etc.the original words of an author or speaker, as opposed to a translation, paraphrase, commentary, or the like: The newspaper published the whole text of the speech.the actual wording of anything written or printed: You have not kept to the text of my remarks.any of the various forms in which a writing exists: The text is a medieval transcription.the wording adopted by an editor as representing the original words of an author: the authoritative text of Catullus.any theme or topic; subject. the words of a song or the like.a textbook. a short passage of Scripture, especially one chosen in proof of a doctrine or as the subject of a sermon: The text he chose was the Sermon on the Mount.the letter of the Holy Scripture, or the Scriptures themselves.Printing. black letter. type, as distinguished from illustrations, margins, etc.Linguistics. a unit of connected speech or writing, especially composed of more than one sentence, that forms a cohesive whole.anything considered to be a subject for analysis by or as if by methods of literary criticism.Digital Technology. a text message. See moreverb (used without object)Digital Technology.to send a text message: Texting while driving is an accident asking to happen.verb (used with object)Digital Technology.to send a text message about or containing: He texted congratulations to his niece on her new job.: Compare instant message (def. 2). to send a text message to: The only way I can ever reach her is to text her.Origin of text1First recorded in 1300–50; Middle English,  from Medieval Latin textus  “text, terms,” Latin:  “text, structure,” originally, “pattern of weaving, texture (of cloth),” equivalent to tex(ere)  “to weave” + -tus  suffix of verbal actionOther words from texttextless, adjectiveWords Nearby textTexas RevolutionTexas sageTexas towerTexelTex-Mextexttextbooktextbookishtext editiontext editortexterDictionary.com Unabridged\n",
            "Based on the Random House Unabridged Dictionary, © Random House, Inc. 2024How to use text in a sentenceSpeaking of typing, tools like autocorrect and predictive text can save you a substantial amount of time.Get around your phone more quickly than you already are | David Nield | September 16, 2020 | Popular-ScienceTry to stay clear or exact match or partial match anchor text as this could be seen as too spammy.Partial match domains in 2020: How to optimize and use effectively | Tudor Lodge Consultants | September 14, 2020 | Search Engine WatchIt is important to create more detailed description for your video because search engines still rely on text content to index and rank your video.How to get your YouTube videos appear in Google’s video carousel | Ann Smarty | September 11, 2020 | Search Engine WatchPotts provided texts she sent to friends immediately after the meeting showing she had expected to meet with both Walker and Mallott.The Woman Propositioned by Alaska’s Former Lieutenant Governor Tells Her Story for the First Time | by Kyle Hopkins and Michelle Theriault Boots,  Anchorage Daily News | September 10, 2020 | ProPublicaLike GPT-3, Diffbot’s system learns by vacuuming up vast amounts of human-written text found online.This know-it-all AI learns by reading the entire web nonstop | Will Heaven | September 4, 2020 | MIT Technology ReviewCatalogue, published by Flammarion (2014), includes photographs from the Magnum Photos archives and text by Éric Hazan.A History of Paris in 150 Photographs | Sarah Moroz | December 14, 2014 | THE DAILY BEASTThe text amply surveys the various cultural exponents of tattooing accompanied by excellent images.The Best Coffee Table Books of 2014 | Robert Birnbaum | December 13, 2014 | THE DAILY BEASTEditor's Note: This article has been revised to include the definition and text of Section 12.Prof: MIT Hospitalized Me For Ferguson Tweets | Nina Strochlic | December 11, 2014 | THE DAILY BEASTA union representative told Buzzfeed News that they never received a text from Liang.New York's Next Killer-Cop Grand Jury | Jacob Siegel | December 6, 2014 | THE DAILY BEAST(There appears to be no full text available online, but you can watch it here).Democrats Are Petrified of Defending Government—but They Need to Start | Michael Tomasky | December 4, 2014 | THE DAILY BEASTAs the weeks wore on, the pretence of practical teaching was quietly dropped, and we crammed our science out of the text-book.The Salvaging Of Civilisation | H. G. (Herbert George) WellsThe text of the amendments designed to carry out these recommendations will be submitted by the Board at an early date.Readings in Money and Banking | Chester Arthur PhillipsTo prevent intruders or extruders from withdrawing his mind from the text, he exercises the Inhibitory function of the Attention.Assimilative Memory | Marcus Dwight Larrowe (AKA Prof. A. Loisette)Directions for preparing it are given in most of the newer large text-books upon clinical diagnosis.A Manual of Clinical Diagnosis | James Campbell ToddWe must keep to the text and not resort to any foreign matter to help the feeble memory.Assimilative Memory | Marcus Dwight Larrowe (AKA Prof. A. Loisette)See More ExamplesBritish Dictionary definitions for texttext/ (tɛkst) /nounthe main body of a printed or written work as distinct from commentary, notes, illustrations, etcthe words of something printed or written(often plural) a book prescribed as part of a course of studycomputing the words printed, written, or displayed on a visual display unitthe original exact wording of a work, esp the Bible, as distinct from a revision or translationa short passage of the Bible used as a starting point for a sermon or adduced as proof of a doctrinethe topic or subject of a discussion or workprinting any one of several styles of letters or typesshort for textbookshort for text messageSee moreverbto send a text message from a mobile phoneOrigin of text1C14: from Medieval Latin textus version, from Latin textus texture, from texere to composeDerived forms of texttextless, adjectiveCollins English Dictionary - Complete & Unabridged 2012 Digital Edition \n",
            "© William Collins Sons & Co. Ltd. 1979, 1986 © HarperCollins \n",
            "Publishers 1998, 2000, 2003, 2005, 2006, 2007, 2009, 2012Browse#aabbccddeeffgghhiijjkkllmmnnooppqqrrssttuuvvwwxxyyzzAboutCareersShopContact usAdvertise with usCookies, terms, & privacyDo not sell my infoFollow usGet the Word of the Day every day!Sign upBy clicking \"Sign Up\", you are accepting Dictionary.com Terms & Conditions and Privacy Policies.My account© 2024 Dictionary.com, LLC\n",
            "\n",
            "\n",
            "\n",
            "\n",
            "\n",
            "\n",
            "\n",
            "\n",
            "\n",
            "\n",
            "\n",
            "\n",
            "\n",
            "\n",
            "\n",
            "\n"
          ]
        }
      ],
      "source": [
        "from bs4 import BeautifulSoup\n",
        "import requests\n",
        "from nltk.corpus import wordnet\n",
        "\n",
        "# Function to get and extract text from a webpage\n",
        "def extract_text_from_url(url):\n",
        "    # Fetch the HTML content of the webpage\n",
        "    response = requests.get(url)\n",
        "\n",
        "    # Check if the request was successful\n",
        "    if response.status_code == 200:\n",
        "        # Parse the HTML content using BeautifulSoup\n",
        "        soup = BeautifulSoup(response.text, 'html.parser')\n",
        "\n",
        "        # Extract text from the parsed HTML\n",
        "        text = soup.get_text()\n",
        "\n",
        "        return text\n",
        "    else:\n",
        "        print(\"Failed to fetch the webpage:\", response.status_code)\n",
        "        return None\n",
        "\n",
        "# Example usage\n",
        "url = \"https://www.dictionary.com/browse/text\"\n",
        "text = extract_text_from_url(url)\n",
        "if text:\n",
        "    print(text)"
      ]
    },
    {
      "cell_type": "code",
      "source": [
        "import re\n",
        "import nltk\n",
        "from nltk.corpus import stopwords\n",
        "from nltk.tokenize import word_tokenize\n",
        "from nltk.stem import WordNetLemmatizer\n",
        "# Download necessary resources\n",
        "nltk.download('punkt')\n",
        "nltk.download('wordnet')\n",
        "nltk.download('stopwords')\n",
        "# Function to preprocess text\n",
        "def preprocess_text(text):\n",
        "    # Convert text to lowercase\n",
        "    text = text.lower()\n",
        "\n",
        "    # Remove HTML tags\n",
        "    text = re.sub('<[^<]+?>', '', text)\n",
        "\n",
        "    # Remove non-alphanumeric characters\n",
        "    text = re.sub(r'[^a-zA-Z0-9\\s]', '', text)\n",
        "\n",
        "    # Tokenization\n",
        "    tokens = word_tokenize(text)\n",
        "\n",
        "    # Remove stopwords\n",
        "    stop_words = set(stopwords.words('english'))\n",
        "    tokens = [word for word in tokens if word not in stop_words]\n",
        "\n",
        "    # Lemmatization\n",
        "    lemmatizer = WordNetLemmatizer()\n",
        "    tokens = [lemmatizer.lemmatize(word) for word in tokens]\n",
        "\n",
        "    # Join tokens back into a single string\n",
        "    preprocessed_text = ' '.join(tokens)\n",
        "\n",
        "    return preprocessed_text\n",
        "\n",
        "# Example usage\n",
        "preprocessed_text = preprocess_text(text)\n",
        "print(preprocessed_text)"
      ],
      "metadata": {
        "colab": {
          "base_uri": "https://localhost:8080/"
        },
        "id": "k0IVrTcfMA80",
        "outputId": "3703cdae-6b77-4174-cbd1-b8aeb1a4d22c"
      },
      "execution_count": null,
      "outputs": [
        {
          "output_type": "stream",
          "name": "stdout",
          "text": [
            "text definition usage example dictionarycom gamesdaily crosswordword puzzleword finderall gamesfeaturedword daysynonym dayword yearnew wordslanguage storiesall featuredpop cultureslangemojimemesacronymsgender sexualityall pop culturewriting tipsgrammar coachwriting hubgrammar essentialscommonly confusedall writing tipsgamesfeaturedpop culturewriting tipstext tekst show ipasee synonym text thesauruscomnounthe main body matter manuscript book newspaper etc distinguished note appendix heading illustration etcthe original word author speaker opposed translation paraphrase commentary like newspaper published whole text speechthe actual wording anything written printed kept text remarksany various form writing exists text medieval transcriptionthe wording adopted editor representing original word author authoritative text catullusany theme topic subject word song likea textbook short passage scripture especially one chosen proof doctrine subject sermon text chose sermon mountthe letter holy scripture scripture themselvesprinting black letter type distinguished illustration margin etclinguistics unit connected speech writing especially composed one sentence form cohesive wholeanything considered subject analysis method literary criticismdigital technology text message see moreverb used without objectdigital technologyto send text message texting driving accident asking happenverb used objectdigital technologyto send text message containing texted congratulation niece new job compare instant message def 2 send text message way ever reach text herorigin text1first recorded 130050 middle english medieval latin textus text term latin text structure originally pattern weaving texture cloth equivalent texere weave tus suffix verbal actionother word texttextless adjectivewords nearby texttexas revolutiontexas sagetexas towertexeltexmextexttextbooktextbookishtext editiontext editortexterdictionarycom unabridged based random house unabridged dictionary random house inc 2024how use text sentencespeaking typing tool like autocorrect predictive text save substantial amount timeget around phone quickly already david nield september 16 2020 popularsciencetry stay clear exact match partial match anchor text could seen spammypartial match domain 2020 optimize use effectively tudor lodge consultant september 14 2020 search engine watchit important create detailed description video search engine still rely text content index rank videohow get youtube video appear google video carousel ann smarty september 11 2020 search engine watchpotts provided text sent friend immediately meeting showing expected meet walker mallottthe woman propositioned alaska former lieutenant governor tell story first time kyle hopkins michelle theriault boot anchorage daily news september 10 2020 propublicalike gpt3 diffbots system learns vacuuming vast amount humanwritten text found onlinethis knowitall ai learns reading entire web nonstop heaven september 4 2020 mit technology reviewcatalogue published flammarion 2014 includes photograph magnum photo archive text ric hazana history paris 150 photograph sarah moroz december 14 2014 daily beastthe text amply survey various cultural exponent tattooing accompanied excellent imagesthe best coffee table book 2014 robert birnbaum december 13 2014 daily beasteditors note article revised include definition text section 12prof mit hospitalized ferguson tweet nina strochlic december 11 2014 daily beasta union representative told buzzfeed news never received text liangnew york next killercop grand jury jacob siegel december 6 2014 daily beastthere appears full text available online watch heredemocrats petrified defending governmentbut need start michael tomasky december 4 2014 daily beastas week wore pretence practical teaching quietly dropped crammed science textbookthe salvaging civilisation h g herbert george wellsthe text amendment designed carry recommendation submitted board early datereadings money banking chester arthur phillipsto prevent intruder extruders withdrawing mind text exercise inhibitory function attentionassimilative memory marcus dwight larrowe aka prof loisettedirections preparing given newer large textbook upon clinical diagnosisa manual clinical diagnosis james campbell toddwe must keep text resort foreign matter help feeble memoryassimilative memory marcus dwight larrowe aka prof loisettesee examplesbritish dictionary definition texttext tkst nounthe main body printed written work distinct commentary note illustration etcthe word something printed writtenoften plural book prescribed part course studycomputing word printed written displayed visual display unitthe original exact wording work esp bible distinct revision translationa short passage bible used starting point sermon adduced proof doctrinethe topic subject discussion workprinting one several style letter typesshort textbookshort text messagesee moreverbto send text message mobile phoneorigin text1c14 medieval latin textus version latin textus texture texere composederived form texttextless adjectivecollins english dictionary complete unabridged 2012 digital edition william collins son co ltd 1979 1986 harpercollins publisher 1998 2000 2003 2005 2006 2007 2009 2012browseaabbccddeeffgghhiijjkkllmmnnooppqqrrssttuuvvwwxxyyzzaboutcareersshopcontact usadvertise uscookies term privacydo sell infofollow usget word day every daysign upby clicking sign accepting dictionarycom term condition privacy policiesmy account 2024 dictionarycom llc\n"
          ]
        },
        {
          "output_type": "stream",
          "name": "stderr",
          "text": [
            "[nltk_data] Downloading package punkt to /root/nltk_data...\n",
            "[nltk_data]   Package punkt is already up-to-date!\n",
            "[nltk_data] Downloading package wordnet to /root/nltk_data...\n",
            "[nltk_data]   Package wordnet is already up-to-date!\n",
            "[nltk_data] Downloading package stopwords to /root/nltk_data...\n",
            "[nltk_data]   Package stopwords is already up-to-date!\n"
          ]
        }
      ]
    },
    {
      "cell_type": "code",
      "source": [
        "def get_unique_words(preprocessed_text):\n",
        "    # Split the preprocessed text into words\n",
        "    words = preprocessed_text.split()\n",
        "\n",
        "    # Convert the list of words into a set to get unique words\n",
        "    unique_words = set(words)\n",
        "\n",
        "    return unique_words\n",
        "\n",
        "\n",
        "unique_words = get_unique_words(preprocessed_text)\n",
        "print(unique_words)\n"
      ],
      "metadata": {
        "colab": {
          "base_uri": "https://localhost:8080/"
        },
        "id": "0RMyKgalOo_0",
        "outputId": "3e035d0a-42d1-4d49-9d92-1a9b7b6c2ea3"
      },
      "execution_count": null,
      "outputs": [
        {
          "output_type": "stream",
          "name": "stdout",
          "text": [
            "{'latin', 'accident', 'cohesive', '2003', 'beastthe', 'policiesmy', 'sexualityall', 'especially', 'siegel', 'history', 'thesauruscomnounthe', 'revision', 'usage', 'definition', 'composed', 'ric', 'domain', 'learns', 'david', 'video', 'privacydo', 'money', 'message', 'job', 'propublicalike', 'congratulation', 'watch', 'mind', '2006', 'typing', 'examplesbritish', 'pop', 'text1first', 'governmentbut', 'text1c14', 'matter', 'meet', 'wholeanything', '1998', 'stay', 'based', 'humanwritten', 'something', 'kyle', 'wore', 'synonym', 'mobile', 'index', 'survey', 'quickly', 'detailed', 'way', 'sarah', 'michael', 'grand', 'yearnew', 'upon', 'foreign', '1986', 'former', 'paraphrase', 'photo', 'woman', 'likea', 'authoritative', 'still', 'texting', '16', 'adopted', 'carry', 'edition', 'datereadings', 'lodge', 'condition', 'manual', 'plural', 'buzzfeed', 'autocorrect', 'videohow', 'anchor', 'tudor', 'prescribed', 'containing', '11', 'attentionassimilative', 'def', 'received', 'middle', 'criticismdigital', 'version', 'texture', 'george', 'tkst', 'original', 'g', 'driving', 'anchorage', 'provided', 'quietly', 'culturewriting', 'sagetexas', 'chose', 'crosswordword', 'unabridged', 'recorded', 'unitthe', 'topic', 'diffbots', 'like', 'diagnosis', 'ever', 'body', 'suffix', 'get', 'crammed', 'doctrine', 'textbookshort', 'predictive', 'literary', 'structure', 'letter', 'whole', 'author', 'loisettesee', 'commentary', 'dropped', 'day', 'tomasky', 'without', 'text', 'content', 'texttexas', 'dictionary', 'confusedall', 'adjectivecollins', '2020', 'available', 'ann', 'weave', 'beastas', 'speechthe', 'beastthere', 'keep', 'form', 'birnbaum', 'editiontext', 'happenverb', 'short', 'hopkins', 'flammarion', 'description', 'cultural', 'distinct', 'niece', 'partial', 'daysynonym', 'hazana', 'liangnew', 'towertexeltexmextexttextbooktextbookishtext', 'ai', 'usget', 'new', 'strochlic', 'gamesfeaturedword', 'toddwe', 'every', 'sentence', 'phoneorigin', 'publisher', 'dictionarycom', 'loisettedirections', 'ltd', 'ipasee', 'sent', 'black', 'match', 'petrified', 'instant', 'campbell', 'tweet', 'banking', 'daysign', 'clicking', 'defending', 'save', 'writtenoften', 'robert', 'archive', 'accompanied', 'moroz', 'december', 'reviewcatalogue', 'friend', 'next', 'tus', 'exponent', 'online', '2000', '1979', 'random', 'engine', 'gpt3', '13', 'practical', 'actionother', 'appendix', 'paris', '2', 'entire', 'son', 'phone', 'extruders', 'editortexterdictionarycom', 'important', 'amendment', 'ferguson', 'llc', 'nonstop', 'moreverb', 'article', 'send', '6', 'typesshort', 'mallottthe', 'nina', '150', 'create', 'told', 'adjectivewords', 'september', 'distinguished', 'originally', 'civilisation', 'wordslanguage', 'sentencespeaking', 'point', 'section', 'table', 'knowitall', 'need', 'h', 'style', 'analysis', 'opposed', 'full', 'time', 'messagesee', 'heading', 'song', '12prof', 'larrowe', 'vacuuming', 'optimize', 'smarty', 'meeting', 'substantial', 'amount', '2024how', 'walker', '2007', 'type', 'verbal', 'could', 'usadvertise', 'governor', 'michelle', 'texere', 'account', 'translation', 'watchit', 'pattern', 'week', 'search', 'actual', 'magnum', 'already', '2024', 'youtube', 'work', 'subject', 'textbook', 'wording', 'clinical', 'never', 'carousel', 'web', 'vast', 'function', 'theriault', 'considered', 'intruder', 'wellsthe', 'designed', '4', 'see', 'texttext', 'display', 'featuredpop', 'help', 'part', 'dayword', 'textus', 'rank', 'composederived', 'timeget', 'technologyto', 'storiesall', 'used', 'watchpotts', 'expected', 'inhibitory', 'tell', 'coffee', 'jacob', 'aka', 'pretence', 'spammypartial', 'reading', 'revolutiontexas', 'beasteditors', 'harpercollins', 'holy', 'consultant', 'heaven', '14', 'boot', 'digital', 'exact', 'showing', 'bible', 'speaker', 'prevent', 'start', 'preparing', 'appear', 'mit', 'equivalent', 'representative', 'puzzleword', 'cloth', 'google', 'alaska', 'discussion', 'cultureslangemojimemesacronymsgender', 'news', 'inc', 'word', 'memoryassimilative', 'recommendation', 'diagnosisa', 'dwight', 'teaching', 'writing', 'infofollow', 'resort', 'essentialscommonly', 'story', 'revised', 'amply', 'york', 'complete', 'james', 'weaving', 'several', 'remarksany', 'method', 'herorigin', '2009', 'accepting', 'themselvesprinting', 'finderall', 'anything', 'etclinguistics', 'coachwriting', 'tool', 'etc', 'clear', '2014', 'written', 'kept', 'representing', 'margin', 'prof', 'memory', 'lieutenant', '10', 'texted', 'killercop', 'must', 'beasta', 'collins', 'doctrinethe', 'imagesthe', 'asking', 'chester', 'photograph', 'connected', 'house', 'upby', 'tipsgrammar', 'published', 'main', 'nearby', 'submitted', 'phillipsto', 'early', 'appears', 'reach', 'union', 'found', 'withdrawing', 'etcthe', 'unit', 'uscookies', 'feeble', 'seen', 'editor', 'excellent', 'adduced', 'popularsciencetry', 'catullusany', 'tipsgamesfeaturedpop', 'tattooing', 'various', 'around', 'passage', 'tekst', 'newer', 'propositioned', 'printed', 'studycomputing', 'nounthe', 'co', 'show', 'sign', 'effectively', 'science', 'example', 'medieval', 'exercise', 'marcus', 'board', 'jury', 'manuscript', 'best', 'arthur', 'speech', 'given', 'visual', 'texttextless', 'first', 'nield', 'hubgrammar', 'tipstext', 'chosen', '2005', 'salvaging', 'note', 'transcriptionthe', 'english', 'gamesdaily', 'compare', 'objectdigital', 'hospitalized', 'esp', 'privacy', 'scripture', 'mountthe', 'term', 'workprinting', 'sermon', 'system', 'newspaper', 'technology', 'daily', 'herbert', 'illustration', 'heredemocrats', 'displayed', '130050', 'book', 'one', 'william', '2012browseaabbccddeeffgghhiijjkkllmmnnooppqqrrssttuuvvwwxxyyzzaboutcareersshopcontact', 'large', 'textbookthe', 'rely', '2012', 'immediately', 'starting', 'onlinethis', 'proof', 'include', 'moreverbto', 'includes', 'sell', 'exists', 'translationa', 'theme', 'course', 'use'}\n"
          ]
        }
      ]
    },
    {
      "cell_type": "code",
      "source": [
        "words = [word for word in unique_words if len(word) <3]\n",
        "words"
      ],
      "metadata": {
        "colab": {
          "base_uri": "https://localhost:8080/"
        },
        "id": "EfpmWR1jLTOn",
        "outputId": "eaa5b7e4-9e01-4c7d-f1ea-db85682e21c3"
      },
      "execution_count": null,
      "outputs": [
        {
          "output_type": "execute_result",
          "data": {
            "text/plain": [
              "['16', '11', 'g', 'ai', '13', '2', '6', 'h', '4', '14', '10', 'co']"
            ]
          },
          "metadata": {},
          "execution_count": 29
        }
      ]
    },
    {
      "cell_type": "code",
      "source": [],
      "metadata": {
        "id": "c7xtMJ7GLdqR"
      },
      "execution_count": null,
      "outputs": []
    },
    {
      "cell_type": "code",
      "source": [],
      "metadata": {
        "id": "z8lq54exLc4s"
      },
      "execution_count": null,
      "outputs": []
    },
    {
      "cell_type": "code",
      "source": [
        "unique_words = [word for word in unique_words if wordnet.synsets(word)]\n",
        "unique_words = [word for word in unique_words if len(word) >2]\n",
        "print(unique_words)"
      ],
      "metadata": {
        "id": "coUL7YIy2ua7"
      },
      "execution_count": null,
      "outputs": []
    }
  ]
}